{
 "cells": [
  {
   "cell_type": "code",
   "execution_count": 21,
   "metadata": {},
   "outputs": [],
   "source": [
    "import pandas as pd\n",
    "import glob\n",
    "import xml.etree.ElementTree as ET\n",
    "import csv\n",
    "import re\n",
    "\n",
    "filenames = glob.glob('C:/Users/hatic/Downloads/ORCID/ORCID/*/*/educations/*.xml')\n",
    "# dosyalarınızın olduğu en ana klasörün yolunu \"/*/*/educations/*.xml\" kısmından öncesine yapıştırın.\n",
    "# ilk \"*\" \"000\" formatında başlayan 3 haneli klasörlerin tamamını okumak için\n",
    "# ikinci \"*\" orchid id başlıklı klasörlerin tamamını okuması için\n",
    "# üçüncü \"*\" kategori başlıklı klasörlerin tamamını okuması için\n",
    "# dördüncü \"*.xml\" klasörlerin altındaki tüm XML dosyalarını okuması için \n",
    "\n",
    "orchid_xml_data = pd.DataFrame()\n",
    "\n",
    "for filename in filenames:\n",
    "    with open(filename, \"r\", encoding=\"utf-8\") as content:\n",
    "        trees = ET.parse(content)\n",
    "        root = trees.getroot()\n",
    "        tags = [elem.tag for elem in root.iter()]\n",
    "        columnnames = [re.sub(r'{.*}', '', s) for s in tags]\n",
    "        texts = [elem.text for elem in root.iter()]\n",
    "        rows = []\n",
    "        xml_dict = dict(zip(columnnames, texts))\n",
    "        rows.append(xml_dict)\n",
    "        df = pd.DataFrame(rows, columns=columnnames)\n",
    "        df[\"filename\"] = filename\n",
    "        df = df.loc[:,~df.columns.duplicated()].reset_index(drop=True)\n",
    "        orchid_xml_data = pd.concat([orchid_xml_data , df] , axis = 0 , ignore_index = True)\n",
    "    \n",
    "drop_cols = [\"education\", 'source', 'source-orcid', 'start-date', 'end-date',\n",
    "'organization', 'address', 'disambiguated-organization', \"source-client-id\"]\n",
    "orchid_xml_data.drop(columns=drop_cols, inplace=True)\n",
    "orchid_xml_data.rename(columns={\"path\": \"orcid-id\", \"name\": \"education\", \"country\": \"country-code\", 'credit-name': \"contributor\"}, inplace=True)\n",
    "orchid_xml_data[\"source-name\"] = orchid_xml_data[\"source-name\"].fillna(\"\").astype(\"object\")\n",
    "orchid_xml_data[\"month\"] = orchid_xml_data[\"month\"].fillna(0).astype(\"int64\")\n",
    "orchid_xml_data[\"year\"] = orchid_xml_data[\"year\"].fillna(0).astype(\"int64\")\n",
    "orchid_xml_data[\"day\"] = orchid_xml_data[\"day\"].fillna(0).astype(\"int64\")\n",
    "orchid_xml_data['created-date'] = orchid_xml_data['created-date'].astype(\"datetime64\")\n",
    "orchid_xml_data['last-modified-date'] = orchid_xml_data['last-modified-date'].astype(\"datetime64\")\n",
    "temp_cols=orchid_xml_data.columns.tolist()\n",
    "new_cols=temp_cols[-1:] + temp_cols[:-1]\n",
    "orchid_xml_data=orchid_xml_data[new_cols]\n",
    "temp_cols = orchid_xml_data.columns.tolist()\n",
    "index = orchid_xml_data.columns.get_loc(\"filename\")\n",
    "new_cols=temp_cols[index:index+1] + temp_cols[0:index] + temp_cols[index+1:]\n",
    "orchid_xml_data =orchid_xml_data[new_cols]\n",
    "orchid_xml_data.index += 1\n",
    "orchid_xml_data.to_csv('C:/Users/hatic/Downloads/ORCID/ORCID/educations.csv', index_label=\"xml-id\", sep=\"^\") # csvyi kaydetmek istediğiniz konumu ve ismi yazın\n"
   ]
  }
 ],
 "metadata": {
  "kernelspec": {
   "display_name": "base",
   "language": "python",
   "name": "python3"
  },
  "language_info": {
   "codemirror_mode": {
    "name": "ipython",
    "version": 3
   },
   "file_extension": ".py",
   "mimetype": "text/x-python",
   "name": "python",
   "nbconvert_exporter": "python",
   "pygments_lexer": "ipython3",
   "version": "3.9.13 (main, Aug 25 2022, 23:51:50) [MSC v.1916 64 bit (AMD64)]"
  },
  "orig_nbformat": 4,
  "vscode": {
   "interpreter": {
    "hash": "c0213b4e991faad0eaee93c2092d45d01284204b86fafe651bbf22ab4807397a"
   }
  }
 },
 "nbformat": 4,
 "nbformat_minor": 2
}
